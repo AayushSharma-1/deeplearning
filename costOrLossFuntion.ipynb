{
 "cells": [
  {
   "cell_type": "code",
   "execution_count": 2,
   "id": "b083842f",
   "metadata": {},
   "outputs": [],
   "source": [
    "import numpy as np\n",
    "y_pre = np.array([1,1,0,0,1])\n",
    "y_true = np.array([0.30, 0.7, 1, 0, 0.5])\n"
   ]
  },
  {
   "cell_type": "code",
   "execution_count": 3,
   "id": "dbfd74f3",
   "metadata": {},
   "outputs": [],
   "source": [
    "def mae(y_true, y_pre):\n",
    "    total_error = 0\n",
    "    for yt, yp in zip(y_true, y_pre):\n",
    "         total_error = abs(yt-yp)\n",
    "    print(\"Total Error:\", total_error)\n",
    "    mae = total_error/len(y_true)\n",
    "    print(\"MAE:\",mae)\n",
    "    return mae"
   ]
  },
  {
   "cell_type": "code",
   "execution_count": 4,
   "id": "f4748b1b",
   "metadata": {},
   "outputs": [
    {
     "name": "stdout",
     "output_type": "stream",
     "text": [
      "Total Error: 0.5\n",
      "MAE: 0.1\n"
     ]
    },
    {
     "data": {
      "text/plain": [
       "0.1"
      ]
     },
     "execution_count": 4,
     "metadata": {},
     "output_type": "execute_result"
    }
   ],
   "source": [
    "mae(y_true, y_pre)"
   ]
  },
  {
   "cell_type": "code",
   "execution_count": 6,
   "id": "545ab45a",
   "metadata": {},
   "outputs": [
    {
     "data": {
      "text/plain": [
       "0.5"
      ]
     },
     "execution_count": 6,
     "metadata": {},
     "output_type": "execute_result"
    }
   ],
   "source": [
    "np.mean(np.abs(y_pre - y_true))"
   ]
  },
  {
   "cell_type": "code",
   "execution_count": 8,
   "id": "481bc1e1",
   "metadata": {},
   "outputs": [],
   "source": [
    "epsilon = 1e-15"
   ]
  },
  {
   "cell_type": "code",
   "execution_count": 17,
   "id": "e4de5b7d",
   "metadata": {},
   "outputs": [],
   "source": [
    "y_pre_new = [max(i ,epsilon) for i in y_pre]"
   ]
  },
  {
   "cell_type": "code",
   "execution_count": 18,
   "id": "8ce77e3f",
   "metadata": {},
   "outputs": [
    {
     "data": {
      "text/plain": [
       "[1, 1, 1e-15, 1e-15, 1]"
      ]
     },
     "execution_count": 18,
     "metadata": {},
     "output_type": "execute_result"
    }
   ],
   "source": [
    "y_pre_new"
   ]
  },
  {
   "cell_type": "code",
   "execution_count": 27,
   "id": "9baa32e8",
   "metadata": {},
   "outputs": [
    {
     "data": {
      "text/plain": [
       "array([1.e+00, 1.e+00, 1.e-15, 1.e-15, 1.e+00])"
      ]
     },
     "execution_count": 27,
     "metadata": {},
     "output_type": "execute_result"
    }
   ],
   "source": [
    "y_pre_new = np.array([min(i, 1-epsilon) for i in y_pre_new])\n",
    "y_pre_new"
   ]
  },
  {
   "cell_type": "code",
   "execution_count": 28,
   "id": "942d3833",
   "metadata": {},
   "outputs": [
    {
     "data": {
      "text/plain": [
       "17.2696280766844"
      ]
     },
     "execution_count": 28,
     "metadata": {},
     "output_type": "execute_result"
    }
   ],
   "source": [
    "-np.mean(y_true*np.log(y_pre_new)+(1-y_true)*np.log(1-y_pre_new))"
   ]
  },
  {
   "cell_type": "code",
   "execution_count": 39,
   "id": "41e70dc5",
   "metadata": {},
   "outputs": [],
   "source": [
    "def log_loss(y_true, y_pre):\n",
    "    epsilon = 1e-15\n",
    "    y_pre_new = np.array([max(i,epsilon) for i in y_pre])\n",
    "    y_pre_new = np.array([min(i,1 - epsilon) for i in y_pre_new])\n",
    "    return -np.mean(y_true*np.log(y_pre_new)+(1-y_true)*np.log(1-y_pre_new))"
   ]
  },
  {
   "cell_type": "code",
   "execution_count": 40,
   "id": "09721c8e",
   "metadata": {},
   "outputs": [
    {
     "data": {
      "text/plain": [
       "17.2696280766844"
      ]
     },
     "execution_count": 40,
     "metadata": {},
     "output_type": "execute_result"
    }
   ],
   "source": [
    "log_loss(y_true, y_pre)"
   ]
  },
  {
   "cell_type": "code",
   "execution_count": 43,
   "id": "bf2f1dec",
   "metadata": {},
   "outputs": [],
   "source": [
    "m_pre = [1,1,0,0,1]\n",
    "m_true = [0.30, 0.7, 1, 0, 0.5]"
   ]
  },
  {
   "cell_type": "code",
   "execution_count": 44,
   "id": "6ac3023e",
   "metadata": {},
   "outputs": [
    {
     "data": {
      "text/plain": [
       "0.366"
      ]
     },
     "execution_count": 44,
     "metadata": {},
     "output_type": "execute_result"
    }
   ],
   "source": [
    "MSE = 0\n",
    "for mp, mt in zip(m_pre, m_true):\n",
    "    MSE = MSE + ((mt - mp)**2)\n",
    "    \n",
    "MSE = MSE/len(m_pre)\n",
    "MSE"
   ]
  },
  {
   "cell_type": "code",
   "execution_count": null,
   "id": "6c579cae",
   "metadata": {},
   "outputs": [],
   "source": [
    "m_pre = np.array([1,1,0,0,1])\n",
    "m_true = np.array([0.30, 0.7, 1, 0, 0.5])\n"
   ]
  }
 ],
 "metadata": {
  "kernelspec": {
   "display_name": "Python 3 (ipykernel)",
   "language": "python",
   "name": "python3"
  },
  "language_info": {
   "codemirror_mode": {
    "name": "ipython",
    "version": 3
   },
   "file_extension": ".py",
   "mimetype": "text/x-python",
   "name": "python",
   "nbconvert_exporter": "python",
   "pygments_lexer": "ipython3",
   "version": "3.9.13"
  }
 },
 "nbformat": 4,
 "nbformat_minor": 5
}
