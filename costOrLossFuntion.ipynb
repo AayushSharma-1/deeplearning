{
 "cells": [
  {
   "cell_type": "code",
   "execution_count": 1,
   "id": "b083842f",
   "metadata": {},
   "outputs": [],
   "source": [
    "import numpy as np\n",
    "y_pre = np.array([1,1,0,0,1,2,4])\n",
    "y_true = np.array([0.30, 0.7, 1, 0, 0.5,1.5,3.4])\n"
   ]
  },
  {
   "cell_type": "code",
   "execution_count": 2,
   "id": "dbfd74f3",
   "metadata": {},
   "outputs": [],
   "source": [
    "def mae(y_true, y_pre):\n",
    "    total_error = 0\n",
    "    for yt, yp in zip(y_true, y_pre):\n",
    "         total_error = abs(yt-yp)\n",
    "    print(\"Total Error:\", total_error)\n",
    "    mae = total_error/len(y_true)\n",
    "    print(\"MAE:\",mae)\n",
    "    return mae"
   ]
  },
  {
   "cell_type": "code",
   "execution_count": 3,
   "id": "f4748b1b",
   "metadata": {},
   "outputs": [
    {
     "name": "stdout",
     "output_type": "stream",
     "text": [
      "Total Error: 0.6000000000000001\n",
      "MAE: 0.08571428571428573\n"
     ]
    },
    {
     "data": {
      "text/plain": [
       "0.08571428571428573"
      ]
     },
     "execution_count": 3,
     "metadata": {},
     "output_type": "execute_result"
    }
   ],
   "source": [
    "mae(y_true, y_pre)"
   ]
  },
  {
   "cell_type": "code",
   "execution_count": 4,
   "id": "545ab45a",
   "metadata": {},
   "outputs": [
    {
     "data": {
      "text/plain": [
       "0.5142857142857143"
      ]
     },
     "execution_count": 4,
     "metadata": {},
     "output_type": "execute_result"
    }
   ],
   "source": [
    "np.mean(np.abs(y_pre - y_true))"
   ]
  },
  {
   "cell_type": "code",
   "execution_count": 5,
   "id": "481bc1e1",
   "metadata": {},
   "outputs": [],
   "source": [
    "epsilon = 1e-15"
   ]
  },
  {
   "cell_type": "code",
   "execution_count": 6,
   "id": "e4de5b7d",
   "metadata": {},
   "outputs": [],
   "source": [
    "y_pre_new = [max(i ,epsilon) for i in y_pre]"
   ]
  },
  {
   "cell_type": "code",
   "execution_count": 7,
   "id": "8ce77e3f",
   "metadata": {},
   "outputs": [
    {
     "data": {
      "text/plain": [
       "[1, 1, 1e-15, 1e-15, 1, 2, 4]"
      ]
     },
     "execution_count": 7,
     "metadata": {},
     "output_type": "execute_result"
    }
   ],
   "source": [
    "y_pre_new"
   ]
  },
  {
   "cell_type": "code",
   "execution_count": 8,
   "id": "9baa32e8",
   "metadata": {},
   "outputs": [
    {
     "data": {
      "text/plain": [
       "array([1.e+00, 1.e+00, 1.e-15, 1.e-15, 1.e+00, 1.e+00, 1.e+00])"
      ]
     },
     "execution_count": 8,
     "metadata": {},
     "output_type": "execute_result"
    }
   ],
   "source": [
    "y_pre_new = np.array([min(i, 1-epsilon) for i in y_pre_new])\n",
    "y_pre_new"
   ]
  },
  {
   "cell_type": "code",
   "execution_count": 9,
   "id": "942d3833",
   "metadata": {},
   "outputs": [
    {
     "data": {
      "text/plain": [
       "-1.9738042849095072"
      ]
     },
     "execution_count": 9,
     "metadata": {},
     "output_type": "execute_result"
    }
   ],
   "source": [
    "-np.mean(y_true*np.log(y_pre_new)+(1-y_true)*np.log(1-y_pre_new))"
   ]
  },
  {
   "cell_type": "code",
   "execution_count": 10,
   "id": "41e70dc5",
   "metadata": {},
   "outputs": [],
   "source": [
    "def log_loss(y_true, y_pre):\n",
    "    epsilon = 1e-17\n",
    "    y_pre_new = np.array([max(i,epsilon) for i in y_pre])\n",
    "    y_pre_new = np.array([min(i,1 - epsilon) for i in y_pre_new])\n",
    "    return -np.mean(y_true*np.log(y_pre_new)+(1-y_true)*np.log(1-y_pre_new))"
   ]
  },
  {
   "cell_type": "code",
   "execution_count": 11,
   "id": "09721c8e",
   "metadata": {},
   "outputs": [
    {
     "name": "stderr",
     "output_type": "stream",
     "text": [
      "C:\\Users\\aayus\\AppData\\Local\\Temp\\ipykernel_15336\\297831398.py:5: RuntimeWarning: divide by zero encountered in log\n",
      "  return -np.mean(y_true*np.log(y_pre_new)+(1-y_true)*np.log(1-y_pre_new))\n",
      "C:\\Users\\aayus\\anaconda3\\lib\\site-packages\\numpy\\core\\_methods.py:181: RuntimeWarning: invalid value encountered in reduce\n",
      "  ret = umr_sum(arr, axis, dtype, out, keepdims, where=where)\n"
     ]
    },
    {
     "data": {
      "text/plain": [
       "nan"
      ]
     },
     "execution_count": 11,
     "metadata": {},
     "output_type": "execute_result"
    }
   ],
   "source": [
    "log_loss(y_true, y_pre)"
   ]
  },
  {
   "cell_type": "code",
   "execution_count": 12,
   "id": "bf2f1dec",
   "metadata": {},
   "outputs": [],
   "source": [
    "m_pre = [1,1,0,0,1]\n",
    "m_true = [0.30, 0.7, 1, 0, 0.5]"
   ]
  },
  {
   "cell_type": "code",
   "execution_count": 13,
   "id": "6ac3023e",
   "metadata": {},
   "outputs": [
    {
     "data": {
      "text/plain": [
       "0.366"
      ]
     },
     "execution_count": 13,
     "metadata": {},
     "output_type": "execute_result"
    }
   ],
   "source": [
    "MSE = 0\n",
    "for mp, mt in zip(m_pre, m_true):\n",
    "    MSE = MSE + ((mt - mp)**2)\n",
    "    \n",
    "MSE = MSE/len(m_pre)\n",
    "MSE"
   ]
  },
  {
   "cell_type": "code",
   "execution_count": 14,
   "id": "6c579cae",
   "metadata": {},
   "outputs": [],
   "source": [
    "m_pre = np.array([1,1,0,0,1])\n",
    "m_true = np.array([0.30, 0.7, 1, 0, 0.5])\n"
   ]
  },
  {
   "cell_type": "code",
   "execution_count": null,
   "id": "13fd7e0f",
   "metadata": {},
   "outputs": [],
   "source": []
  },
  {
   "cell_type": "code",
   "execution_count": null,
   "id": "dda9debc",
   "metadata": {},
   "outputs": [],
   "source": []
  }
 ],
 "metadata": {
  "kernelspec": {
   "display_name": "Python 3 (ipykernel)",
   "language": "python",
   "name": "python3"
  },
  "language_info": {
   "codemirror_mode": {
    "name": "ipython",
    "version": 3
   },
   "file_extension": ".py",
   "mimetype": "text/x-python",
   "name": "python",
   "nbconvert_exporter": "python",
   "pygments_lexer": "ipython3",
   "version": "3.9.13"
  }
 },
 "nbformat": 4,
 "nbformat_minor": 5
}
