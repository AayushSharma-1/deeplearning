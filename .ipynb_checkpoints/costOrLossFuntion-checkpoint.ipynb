{
 "cells": [
  {
   "cell_type": "code",
   "execution_count": 2,
   "id": "b083842f",
   "metadata": {},
   "outputs": [],
   "source": [
    "import numpy as np\n",
    "y_pre = np.array([1,1,0,0,1])\n",
    "y_true = np.array([0.30, 0.7, 1, 0, 0.5])\n"
   ]
  },
  {
   "cell_type": "code",
   "execution_count": 3,
   "id": "dbfd74f3",
   "metadata": {},
   "outputs": [],
   "source": [
    "def mae(y_true, y_pre):\n",
    "    total_error = 0\n",
    "    for yt, yp in zip(y_true, y_pre):\n",
    "         total_error = abs(yt-yp)\n",
    "    print(\"Total Error:\", total_error)\n",
    "    mae = total_error/len(y_true)\n",
    "    print(\"MAE:\",mae)\n",
    "    return mae"
   ]
  },
  {
   "cell_type": "code",
   "execution_count": 4,
   "id": "f4748b1b",
   "metadata": {},
   "outputs": [
    {
     "name": "stdout",
     "output_type": "stream",
     "text": [
      "Total Error: 0.5\n",
      "MAE: 0.1\n"
     ]
    },
    {
     "data": {
      "text/plain": [
       "0.1"
      ]
     },
     "execution_count": 4,
     "metadata": {},
     "output_type": "execute_result"
    }
   ],
   "source": [
    "mae(y_true, y_pre)"
   ]
  },
  {
   "cell_type": "code",
   "execution_count": 6,
   "id": "545ab45a",
   "metadata": {},
   "outputs": [
    {
     "data": {
      "text/plain": [
       "0.5"
      ]
     },
     "execution_count": 6,
     "metadata": {},
     "output_type": "execute_result"
    }
   ],
   "source": [
    "np.mean(np.abs(y_pre - y_true))"
   ]
  },
  {
   "cell_type": "code",
   "execution_count": null,
   "id": "14b66551",
   "metadata": {},
   "outputs": [],
   "source": []
  }
 ],
 "metadata": {
  "kernelspec": {
   "display_name": "Python 3 (ipykernel)",
   "language": "python",
   "name": "python3"
  },
  "language_info": {
   "codemirror_mode": {
    "name": "ipython",
    "version": 3
   },
   "file_extension": ".py",
   "mimetype": "text/x-python",
   "name": "python",
   "nbconvert_exporter": "python",
   "pygments_lexer": "ipython3",
   "version": "3.9.13"
  }
 },
 "nbformat": 4,
 "nbformat_minor": 5
}
