{
 "cells": [
  {
   "cell_type": "code",
   "execution_count": null,
   "metadata": {
    "id": "lG5Kz9AH7fmo"
   },
   "outputs": [],
   "source": [
    "import tensorflow as tf\n",
    "from tensorflow import keras\n",
    "from keras import datasets, layers, models\n",
    "import matplotlib.pyplot as plt\n",
    "import numpy as np"
   ]
  },
  {
   "cell_type": "code",
   "execution_count": null,
   "metadata": {
    "id": "S6mcyTi_7yjq"
   },
   "outputs": [],
   "source": [
    "(X_train, y_train), (X_test, y_test) = datasets.cifar10.load_data()"
   ]
  },
  {
   "cell_type": "code",
   "execution_count": null,
   "metadata": {
    "colab": {
     "base_uri": "https://localhost:8080/"
    },
    "id": "xCFAQAfS8Ieq",
    "outputId": "3c6b2a1e-efad-4432-c2da-2a76b7e6eb01"
   },
   "outputs": [
    {
     "data": {
      "text/plain": [
       "(50000, 32, 32, 3)"
      ]
     },
     "execution_count": 21,
     "metadata": {},
     "output_type": "execute_result"
    }
   ],
   "source": [
    "X_train.shape"
   ]
  },
  {
   "cell_type": "code",
   "execution_count": null,
   "metadata": {
    "colab": {
     "base_uri": "https://localhost:8080/"
    },
    "id": "5rCSM-6x9Kcn",
    "outputId": "9e6d426c-0034-4653-e12e-46ceb9019717"
   },
   "outputs": [
    {
     "data": {
      "text/plain": [
       "array([6, 9, 9, 4, 1], dtype=uint8)"
      ]
     },
     "execution_count": 22,
     "metadata": {},
     "output_type": "execute_result"
    }
   ],
   "source": [
    "y_train = y_train.reshape(-1,)\n",
    "y_train[:5]"
   ]
  },
  {
   "cell_type": "code",
   "execution_count": null,
   "metadata": {
    "id": "dHKCd7rw8ux2"
   },
   "outputs": [],
   "source": [
    "classes = ['airplane', 'automobile', 'bird', 'cat', 'deer', 'dog', 'frog', 'horse', 'ship','truck']"
   ]
  },
  {
   "cell_type": "code",
   "execution_count": null,
   "metadata": {
    "id": "a0FgfALZ8N20"
   },
   "outputs": [],
   "source": [
    "def plot_sample(X, y, index):\n",
    "  plt.figure(figsize = (15, 2))\n",
    "  plt.imshow(X[index])\n",
    "  plt.xlabel(classes[y[index]])"
   ]
  },
  {
   "cell_type": "code",
   "execution_count": null,
   "metadata": {
    "colab": {
     "base_uri": "https://localhost:8080/",
     "height": 237
    },
    "id": "7ap_1Ewz8QsA",
    "outputId": "9f0150f0-5bea-4da5-996c-a25c6dbe3e57"
   },
   "outputs": [
    {
     "data": {
      "image/png": "[encoded data removed]",
      "text/plain": [
       "<Figure size 1500x200 with 1 Axes>"
      ]
     },
     "metadata": {},
     "output_type": "display_data"
    }
   ],
   "source": [
    "plot_sample(X_train, y_train , 0)"
   ]
  },
  {
   "cell_type": "code",
   "execution_count": null,
   "metadata": {
    "id": "cDSs7eyG9q1c"
   },
   "outputs": [],
   "source": [
    "X_train = X_train/255"
   ]
  },
  {
   "cell_type": "code",
   "execution_count": null,
   "metadata": {
    "id": "oZpPs6aYwlCe"
   },
   "outputs": [],
   "source": [
    "X_test = X_test / 255"
   ]
  },
  {
   "cell_type": "code",
   "execution_count": null,
   "metadata": {
    "colab": {
     "base_uri": "https://localhost:8080/"
    },
    "id": "DoAu9nf7wys7",
    "outputId": "bebea975-7772-4bf6-8ec1-328e477d6bb3"
   },
   "outputs": [
    {
     "name": "stdout",
     "output_type": "stream",
     "text": [
      "Epoch 1/5\n",
      "1563/1563 [==============================] - 8s 5ms/step - loss: 1.8135 - accuracy: 0.3528\n",
      "Epoch 2/5\n",
      "1563/1563 [==============================] - 8s 5ms/step - loss: 1.6252 - accuracy: 0.4278\n",
      "Epoch 3/5\n",
      "1563/1563 [==============================] - 8s 5ms/step - loss: 1.5417 - accuracy: 0.4567\n",
      "Epoch 4/5\n",
      "1563/1563 [==============================] - 7s 5ms/step - loss: 1.4824 - accuracy: 0.4808\n",
      "Epoch 5/5\n",
      "1563/1563 [==============================] - 8s 5ms/step - loss: 1.4348 - accuracy: 0.4960\n"
     ]
    },
    {
     "data": {
      "text/plain": [
       "<keras.src.callbacks.History at 0x77fdd4fdb7c0>"
      ]
     },
     "execution_count": 28,
     "metadata": {},
     "output_type": "execute_result"
    }
   ],
   "source": [
    "ann = models.Sequential([\n",
    "    layers.Flatten(input_shape = (32, 32, 3)),\n",
    "    keras.layers.Dense(3000, activation = 'relu'),\n",
    "    keras.layers.Dense(1000, activation = 'relu'),\n",
    "    keras.layers.Dense(10, activation = 'sigmoid')\n",
    "])\n",
    "\n",
    "ann.compile(optimizer= 'SGD', loss = 'sparse_categorical_crossentropy', metrics = ['accuracy'])\n",
    "\n",
    "ann.fit(X_train, y_train, epochs = 5)"
   ]
  },
  {
   "cell_type": "code",
   "execution_count": null,
   "metadata": {
    "colab": {
     "base_uri": "https://localhost:8080/"
    },
    "id": "DwdBfNUIyo4G",
    "outputId": "0789f8e0-a5c7-4b47-8513-633868dbd92e"
   },
   "outputs": [
    {
     "name": "stdout",
     "output_type": "stream",
     "text": [
      "313/313 [==============================] - 1s 3ms/step - loss: 1.5017 - accuracy: 0.4555\n"
     ]
    },
    {
     "data": {
      "text/plain": [
       "[1.5016990900039673, 0.4555000066757202]"
      ]
     },
     "execution_count": 29,
     "metadata": {},
     "output_type": "execute_result"
    }
   ],
   "source": [
    "ann.evaluate(X_test, y_test)"
   ]
  },
  {
   "cell_type": "code",
   "execution_count": null,
   "metadata": {
    "colab": {
     "base_uri": "https://localhost:8080/"
    },
    "id": "pHjDXsAEznb_",
    "outputId": "70a02161-e187-4652-ee8a-4f51ae12f53f"
   },
   "outputs": [
    {
     "name": "stdout",
     "output_type": "stream",
     "text": [
      "313/313 [==============================] - 1s 3ms/step\n",
      "Classification Report: \n",
      "               precision    recall  f1-score   support\n",
      "\n",
      "           0       0.70      0.35      0.47      1000\n",
      "           1       0.63      0.54      0.58      1000\n",
      "           2       0.25      0.64      0.36      1000\n",
      "           3       0.38      0.34      0.36      1000\n",
      "           4       0.50      0.22      0.31      1000\n",
      "           5       0.59      0.15      0.25      1000\n",
      "           6       0.48      0.59      0.53      1000\n",
      "           7       0.66      0.40      0.50      1000\n",
      "           8       0.65      0.58      0.61      1000\n",
      "           9       0.42      0.73      0.53      1000\n",
      "\n",
      "    accuracy                           0.46     10000\n",
      "   macro avg       0.53      0.46      0.45     10000\n",
      "weighted avg       0.53      0.46      0.45     10000\n",
      "\n"
     ]
    }
   ],
   "source": [
    "from sklearn.metrics import confusion_matrix, classification_report\n",
    "import numpy as np\n",
    "y_pred = ann.predict(X_test)\n",
    "y_pred_classes = [np.argmax(element) for element in y_pred]\n",
    "\n",
    "print(\"Classification Report: \\n\", classification_report(y_test, y_pred_classes))"
   ]
  },
  {
   "cell_type": "code",
   "execution_count": null,
   "metadata": {
    "id": "fyM1o3Wj1S4f"
   },
   "outputs": [],
   "source": [
    "cnn = models.Sequential([\n",
    "    #cnn\n",
    "\n",
    "    layers.Conv2D(filters = 32, activation = 'relu', kernel_size = (3,3), input_shape = (32,32,3)),\n",
    "    layers.MaxPooling2D((2,2)),\n",
    "\n",
    "    layers.Conv2D(filters = 64, activation = 'relu', kernel_size = (3,3)),\n",
    "    layers.MaxPooling2D((2,2)),\n",
    "\n",
    "    #dense\n",
    "    layers.Flatten(),\n",
    "    keras.layers.Dense(64, activation = 'relu'),\n",
    "    keras.layers.Dense(10, activation = 'softmax'),\n",
    "\n",
    "])"
   ]
  },
  {
   "cell_type": "code",
   "execution_count": null,
   "metadata": {
    "id": "CO6pMyhK3QA8"
   },
   "outputs": [],
   "source": [
    "cnn.compile(optimizer = 'adam', loss = 'sparse_categorical_crossentropy', metrics = ['accuracy'])"
   ]
  },
  {
   "cell_type": "code",
   "execution_count": null,
   "metadata": {
    "colab": {
     "base_uri": "https://localhost:8080/"
    },
    "id": "0NOIc4Jf3cCb",
    "outputId": "7079e401-9f85-4f2a-d97f-fe0582d3b8c8"
   },
   "outputs": [
    {
     "name": "stdout",
     "output_type": "stream",
     "text": [
      "Epoch 1/10\n",
      "1563/1563 [==============================] - 7s 4ms/step - loss: 1.4939 - accuracy: 0.4622\n",
      "Epoch 2/10\n",
      "1563/1563 [==============================] - 7s 5ms/step - loss: 1.1507 - accuracy: 0.5948\n",
      "Epoch 3/10\n",
      "1563/1563 [==============================] - 6s 4ms/step - loss: 1.0234 - accuracy: 0.6397\n",
      "Epoch 4/10\n",
      "1563/1563 [==============================] - 7s 4ms/step - loss: 0.9433 - accuracy: 0.6707\n",
      "Epoch 5/10\n",
      "1563/1563 [==============================] - 6s 4ms/step - loss: 0.8812 - accuracy: 0.6935\n",
      "Epoch 6/10\n",
      "1563/1563 [==============================] - 7s 4ms/step - loss: 0.8320 - accuracy: 0.7103\n",
      "Epoch 7/10\n",
      "1563/1563 [==============================] - 6s 4ms/step - loss: 0.7837 - accuracy: 0.7288\n",
      "Epoch 8/10\n",
      "1563/1563 [==============================] - 7s 4ms/step - loss: 0.7412 - accuracy: 0.7425\n",
      "Epoch 9/10\n",
      "1563/1563 [==============================] - 6s 4ms/step - loss: 0.7056 - accuracy: 0.7548\n",
      "Epoch 10/10\n",
      "1563/1563 [==============================] - 7s 4ms/step - loss: 0.6687 - accuracy: 0.7678\n"
     ]
    },
    {
     "data": {
      "text/plain": [
       "<keras.src.callbacks.History at 0x77fdcfd89cf0>"
      ]
     },
     "execution_count": 37,
     "metadata": {},
     "output_type": "execute_result"
    }
   ],
   "source": [
    "cnn.fit(X_train, y_train, epochs = 10)"
   ]
  },
  {
   "cell_type": "code",
   "execution_count": null,
   "metadata": {
    "colab": {
     "base_uri": "https://localhost:8080/"
    },
    "id": "EPLSMoUG3jTG",
    "outputId": "a86580c1-a84f-4241-db1d-dea8c85f495c"
   },
   "outputs": [
    {
     "name": "stdout",
     "output_type": "stream",
     "text": [
      "313/313 [==============================] - 1s 4ms/step - loss: 0.9574 - accuracy: 0.6884\n"
     ]
    },
    {
     "data": {
      "text/plain": [
       "[0.9574135541915894, 0.6883999705314636]"
      ]
     },
     "execution_count": 38,
     "metadata": {},
     "output_type": "execute_result"
    }
   ],
   "source": [
    "cnn.evaluate(X_test, y_test)"
   ]
  },
  {
   "cell_type": "code",
   "execution_count": null,
   "metadata": {
    "colab": {
     "base_uri": "https://localhost:8080/"
    },
    "id": "pd1rfDwg4cRs",
    "outputId": "091b0435-017a-4820-f4e3-2921beb2cd8c"
   },
   "outputs": [
    {
     "data": {
      "text/plain": [
       "array([3, 8, 8, 0, 6], dtype=uint8)"
      ]
     },
     "execution_count": 40,
     "metadata": {},
     "output_type": "execute_result"
    }
   ],
   "source": [
    "y_test = y_test.reshape(-1,)\n",
    "y_test[:5]"
   ]
  },
  {
   "cell_type": "code",
   "execution_count": null,
   "metadata": {
    "colab": {
     "base_uri": "https://localhost:8080/",
     "height": 237
    },
    "id": "bhWjWkji4l0Y",
    "outputId": "3406f651-f36b-401b-d1b9-3aa145bde0ff"
   },
   "outputs": [
    {
     "data": {
      "image/png": "[encoded data removed]",
      "text/plain": [
       "<Figure size 1500x200 with 1 Axes>"
      ]
     },
     "metadata": {},
     "output_type": "display_data"
    }
   ],
   "source": [
    "plot_sample(X_test, y_test, 1)"
   ]
  },
  {
   "cell_type": "code",
   "execution_count": null,
   "metadata": {
    "colab": {
     "base_uri": "https://localhost:8080/"
    },
    "id": "8lPb_dO34vdh",
    "outputId": "bcc5fa0f-86cf-4cf0-9912-e598a47611b9"
   },
   "outputs": [
    {
     "name": "stdout",
     "output_type": "stream",
     "text": [
      "313/313 [==============================] - 1s 3ms/step\n"
     ]
    },
    {
     "data": {
      "text/plain": [
       "array([[5.3264771e-04, 8.4852727e-05, 1.9369468e-03, 8.5224003e-01,\n",
       "        2.9100431e-03, 1.3415813e-01, 7.3606400e-03, 7.6777891e-05,\n",
       "        4.5675234e-04, 2.4319209e-04],\n",
       "       [7.1238057e-04, 3.5887232e-04, 1.4525870e-06, 2.2362815e-07,\n",
       "        1.2624150e-07, 1.6490681e-08, 1.0434534e-09, 4.1370757e-08,\n",
       "        9.9891424e-01, 1.2618061e-05],\n",
       "       [3.9232452e-03, 5.2093815e-02, 6.4368920e-05, 1.8138911e-04,\n",
       "        1.0626485e-04, 3.9428018e-05, 5.0830567e-06, 3.2060037e-05,\n",
       "        9.4123191e-01, 2.3224128e-03],\n",
       "       [9.3244177e-01, 2.9692114e-03, 8.5079037e-03, 7.4648917e-05,\n",
       "        2.3655533e-03, 5.0692661e-06, 1.1026499e-05, 1.6464829e-04,\n",
       "        5.3386170e-02, 7.4041440e-05],\n",
       "       [4.8984691e-07, 4.8257367e-05, 1.5976325e-03, 5.5607595e-03,\n",
       "        9.3976241e-01, 1.1218953e-04, 5.2913539e-02, 6.8479437e-07,\n",
       "        3.8502735e-06, 2.2773870e-07]], dtype=float32)"
      ]
     },
     "execution_count": 42,
     "metadata": {},
     "output_type": "execute_result"
    }
   ],
   "source": [
    "y_pred = cnn.predict(X_test)\n",
    "y_pred[:5]"
   ]
  },
  {
   "cell_type": "code",
   "execution_count": null,
   "metadata": {
    "colab": {
     "base_uri": "https://localhost:8080/"
    },
    "id": "Ypc5NaR54-w6",
    "outputId": "bdaa4b69-bf32-47d3-a7b1-f69eacf10c8e"
   },
   "outputs": [
    {
     "data": {
      "text/plain": [
       "[3, 8, 8, 0, 4]"
      ]
     },
     "execution_count": 43,
     "metadata": {},
     "output_type": "execute_result"
    }
   ],
   "source": [
    "y_classes = [np.argmax(element) for element in y_pred]\n",
    "y_classes[:5]"
   ]
  },
  {
   "cell_type": "code",
   "execution_count": null,
   "metadata": {
    "colab": {
     "base_uri": "https://localhost:8080/",
     "height": 237
    },
    "id": "HPnUsTyi5T5_",
    "outputId": "dab87035-4815-430e-df8d-73a3c19b63a3"
   },
   "outputs": [
    {
     "data": {
      "image/png": "[encoded data removed]",
      "text/plain": [
       "<Figure size 1500x200 with 1 Axes>"
      ]
     },
     "metadata": {},
     "output_type": "display_data"
    }
   ],
   "source": [
    "plot_sample(X_test, y_test, 1)"
   ]
  },
  {
   "cell_type": "code",
   "execution_count": null,
   "metadata": {
    "colab": {
     "base_uri": "https://localhost:8080/"
    },
    "id": "2x7JS45L5day",
    "outputId": "1dfdae25-f070-46ad-8b41-fc8a53eb2ed5"
   },
   "outputs": [
    {
     "name": "stdout",
     "output_type": "stream",
     "text": [
      "Classification Report: \n",
      "               precision    recall  f1-score   support\n",
      "\n",
      "           0       0.72      0.74      0.73      1000\n",
      "           1       0.82      0.80      0.81      1000\n",
      "           2       0.68      0.45      0.54      1000\n",
      "           3       0.59      0.39      0.47      1000\n",
      "           4       0.49      0.79      0.61      1000\n",
      "           5       0.58      0.67      0.62      1000\n",
      "           6       0.78      0.74      0.76      1000\n",
      "           7       0.75      0.73      0.74      1000\n",
      "           8       0.77      0.85      0.81      1000\n",
      "           9       0.82      0.74      0.78      1000\n",
      "\n",
      "    accuracy                           0.69     10000\n",
      "   macro avg       0.70      0.69      0.69     10000\n",
      "weighted avg       0.70      0.69      0.69     10000\n",
      "\n"
     ]
    }
   ],
   "source": [
    "print(\"Classification Report: \\n\", classification_report(y_test, y_classes))"
   ]
  },
  {
   "cell_type": "code",
   "execution_count": null,
   "metadata": {
    "id": "aKlnmoNv509b"
   },
   "outputs": [],
   "source": []
  }
 ],
 "metadata": {
  "accelerator": "GPU",
  "colab": {
   "gpuType": "T4",
   "provenance": []
  },
  "kernelspec": {
   "display_name": "Python 3 (ipykernel)",
   "language": "python",
   "name": "python3"
  },
  "language_info": {
   "codemirror_mode": {
    "name": "ipython",
    "version": 3
   },
   "file_extension": ".py",
   "mimetype": "text/x-python",
   "name": "python",
   "nbconvert_exporter": "python",
   "pygments_lexer": "ipython3",
   "version": "3.9.13"
  }
 },
 "nbformat": 4,
 "nbformat_minor": 1
}
