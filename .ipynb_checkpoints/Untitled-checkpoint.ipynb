{
 "cells": [
  {
   "cell_type": "code",
   "execution_count": 26,
   "id": "f2ec3693",
   "metadata": {},
   "outputs": [],
   "source": [
    "def timeConversion(s):\n",
    "    # Write your code here\n",
    "    s_list = list(s)\n",
    "    hour = ''\n",
    "    if s_list[0]=='1' and s_list[1] != '2' and s_list[8] == 'P':\n",
    "        hour += s_list[0]\n",
    "        hour += s_list[1]\n",
    "        hour = int(hour) + 12\n",
    "        hour = str(hour)\n",
    "        s_list[0] = hour[0]\n",
    "        s_list[1] = hour[1]\n",
    "        return ''.join(s_list[:8])\n",
    "    \n",
    "    if (s_list[0]=='1' and s_list[1] == '2' and s_list[8]=='A'):\n",
    "        s_list[0] , s_list[1] = '0', '0'\n",
    "        return ''.join(s_list[:8])\n",
    "    \n",
    "    if (s_list[0]=='1' and s_list[1] == '2' and s_list[8]=='P'):\n",
    "        return ''.join(s_list[:8])"
   ]
  },
  {
   "cell_type": "code",
   "execution_count": 27,
   "id": "e10eb3c8",
   "metadata": {},
   "outputs": [
    {
     "data": {
      "text/plain": [
       "'12:40:22'"
      ]
     },
     "execution_count": 27,
     "metadata": {},
     "output_type": "execute_result"
    }
   ],
   "source": [
    "s = '12:40:22PM'\n",
    "timeConversion(s)"
   ]
  },
  {
   "cell_type": "code",
   "execution_count": 18,
   "id": "c2b902c9",
   "metadata": {},
   "outputs": [],
   "source": [
    "s_list =  list(s)"
   ]
  },
  {
   "cell_type": "code",
   "execution_count": 7,
   "id": "165cb295",
   "metadata": {},
   "outputs": [
    {
     "data": {
      "text/plain": [
       "'12:05:45AM'"
      ]
     },
     "execution_count": 7,
     "metadata": {},
     "output_type": "execute_result"
    }
   ],
   "source": [
    "str(s)"
   ]
  },
  {
   "cell_type": "code",
   "execution_count": 8,
   "id": "4a30c590",
   "metadata": {},
   "outputs": [],
   "source": [
    "hour = ''"
   ]
  },
  {
   "cell_type": "code",
   "execution_count": 11,
   "id": "ddcce9bd",
   "metadata": {},
   "outputs": [],
   "source": [
    "s_list[0] , s_list[1] = '0', '0' "
   ]
  },
  {
   "cell_type": "code",
   "execution_count": 12,
   "id": "937a0a64",
   "metadata": {},
   "outputs": [
    {
     "data": {
      "text/plain": [
       "['0', '0', ':', '0', '5', ':', '4', '5', 'A', 'M']"
      ]
     },
     "execution_count": 12,
     "metadata": {},
     "output_type": "execute_result"
    }
   ],
   "source": [
    "s_list"
   ]
  },
  {
   "cell_type": "code",
   "execution_count": 47,
   "id": "434592f6",
   "metadata": {},
   "outputs": [
    {
     "data": {
      "text/plain": [
       "'1'"
      ]
     },
     "execution_count": 47,
     "metadata": {},
     "output_type": "execute_result"
    }
   ],
   "source": [
    "hour"
   ]
  },
  {
   "cell_type": "code",
   "execution_count": 48,
   "id": "d0608ad5",
   "metadata": {},
   "outputs": [
    {
     "data": {
      "text/plain": [
       "'12'"
      ]
     },
     "execution_count": 48,
     "metadata": {},
     "output_type": "execute_result"
    }
   ],
   "source": [
    "hour +=s_list[1]\n",
    "hour"
   ]
  },
  {
   "cell_type": "code",
   "execution_count": 49,
   "id": "a87acb4f",
   "metadata": {},
   "outputs": [
    {
     "data": {
      "text/plain": [
       "12"
      ]
     },
     "execution_count": 49,
     "metadata": {},
     "output_type": "execute_result"
    }
   ],
   "source": [
    "int(hour)"
   ]
  },
  {
   "cell_type": "code",
   "execution_count": 50,
   "id": "406a947e",
   "metadata": {},
   "outputs": [
    {
     "data": {
      "text/plain": [
       "24"
      ]
     },
     "execution_count": 50,
     "metadata": {},
     "output_type": "execute_result"
    }
   ],
   "source": [
    "int(hour) + 12"
   ]
  },
  {
   "cell_type": "code",
   "execution_count": 51,
   "id": "803d9ccd",
   "metadata": {},
   "outputs": [
    {
     "data": {
      "text/plain": [
       "'12'"
      ]
     },
     "execution_count": 51,
     "metadata": {},
     "output_type": "execute_result"
    }
   ],
   "source": [
    "str(hour)"
   ]
  },
  {
   "cell_type": "code",
   "execution_count": 52,
   "id": "ae633b82",
   "metadata": {},
   "outputs": [],
   "source": []
  },
  {
   "cell_type": "code",
   "execution_count": 53,
   "id": "557d038b",
   "metadata": {},
   "outputs": [],
   "source": []
  },
  {
   "cell_type": "code",
   "execution_count": 13,
   "id": "a3ea0df5",
   "metadata": {},
   "outputs": [
    {
     "data": {
      "text/plain": [
       "['0', '0', ':', '0', '5', ':', '4', '5', 'A', 'M']"
      ]
     },
     "execution_count": 13,
     "metadata": {},
     "output_type": "execute_result"
    }
   ],
   "source": []
  },
  {
   "cell_type": "code",
   "execution_count": 14,
   "id": "c6266d56",
   "metadata": {},
   "outputs": [
    {
     "data": {
      "text/plain": [
       "\"['0', '0', ':', '0', '5', ':', '4', '5', 'A', 'M']\""
      ]
     },
     "execution_count": 14,
     "metadata": {},
     "output_type": "execute_result"
    }
   ],
   "source": []
  },
  {
   "cell_type": "code",
   "execution_count": 16,
   "id": "55f16cb2",
   "metadata": {},
   "outputs": [
    {
     "data": {
      "text/plain": [
       "'00:05:45'"
      ]
     },
     "execution_count": 16,
     "metadata": {},
     "output_type": "execute_result"
    }
   ],
   "source": []
  },
  {
   "cell_type": "code",
   "execution_count": null,
   "id": "3a5a2a50",
   "metadata": {},
   "outputs": [],
   "source": []
  },
  {
   "cell_type": "code",
   "execution_count": null,
   "id": "26023556",
   "metadata": {},
   "outputs": [],
   "source": []
  }
 ],
 "metadata": {
  "kernelspec": {
   "display_name": "Python 3 (ipykernel)",
   "language": "python",
   "name": "python3"
  },
  "language_info": {
   "codemirror_mode": {
    "name": "ipython",
    "version": 3
   },
   "file_extension": ".py",
   "mimetype": "text/x-python",
   "name": "python",
   "nbconvert_exporter": "python",
   "pygments_lexer": "ipython3",
   "version": "3.9.13"
  }
 },
 "nbformat": 4,
 "nbformat_minor": 5
}
